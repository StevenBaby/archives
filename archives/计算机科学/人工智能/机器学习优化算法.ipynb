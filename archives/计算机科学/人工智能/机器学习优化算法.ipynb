{
 "cells": [
  {
   "cell_type": "markdown",
   "metadata": {},
   "source": [
    "# 机器学习优化算法\n",
    "\n",
    "[annotation]: [id] (21f93bcb-4c15-4142-ad05-acf478bd387f)\n",
    "[annotation]: [status] (public)\n",
    "[annotation]: [create_time] (2021-12-12 22:09:38)\n",
    "[annotation]: [category] (计算机科学)\n",
    "[annotation]: [tags] (机器学习)\n",
    "[annotation]: [comments] (false)\n",
    "[annotation]: [url] (http://blog.ccyg.studio/article/21f93bcb-4c15-4142-ad05-acf478bd387f)"
   ]
  },
  {
   "cell_type": "markdown",
   "metadata": {},
   "source": [
    "这个文章来自于 B 站视频 <sup>[[ref]](#source)</sup> 的总结"
   ]
  },
  {
   "cell_type": "code",
   "execution_count": 8,
   "metadata": {},
   "outputs": [],
   "source": [
    "import numpy as np\n",
    "import matplotlib.pyplot as plt"
   ]
  },
  {
   "cell_type": "markdown",
   "metadata": {},
   "source": [
    "## 梯度下降法"
   ]
  },
  {
   "cell_type": "code",
   "execution_count": 9,
   "metadata": {},
   "outputs": [],
   "source": [
    "def f(x1, x2):\n",
    "    return x1 ** 2 + 2 * x2 ** 2 + x1\n",
    "\n",
    "\n",
    "def grad(x1, x2):\n",
    "    return 2 * x1 + 1, 4 * x2"
   ]
  },
  {
   "cell_type": "code",
   "execution_count": 10,
   "metadata": {},
   "outputs": [
    {
     "data": {
      "image/png": "[encoded data removed]",
      "text/plain": [
       "<Figure size 432x288 with 1 Axes>"
      ]
     },
     "metadata": {
      "needs_background": "light"
     },
     "output_type": "display_data"
    }
   ],
   "source": [
    "# 1. 给定初始值\n",
    "x1, x2 = 0.3, 0.3\n",
    "\n",
    "# 2. 设定学习率\n",
    "eta = 0.1\n",
    "\n",
    "# 3. 开始迭代\n",
    "values = []\n",
    "for step in range(20):\n",
    "    g1, g2 = grad(x1, x2)\n",
    "    x1 -= eta * g1\n",
    "    x2 -= eta * g2\n",
    "    fn = f(x1, x2)\n",
    "    # print((x1, x2), f(x1, x2))\n",
    "    values.append(fn)\n",
    "\n",
    "plt.plot(values)\n",
    "plt.show()"
   ]
  },
  {
   "cell_type": "markdown",
   "metadata": {},
   "source": [
    "## 随机梯度下降法 Stochastic Gradient Descent(SGD)"
   ]
  },
  {
   "cell_type": "markdown",
   "metadata": {},
   "source": [
    "## 动量梯度下降法\n",
    "\n",
    "$$w_t = w_t-\\eta \\cdot g_w$$"
   ]
  },
  {
   "cell_type": "markdown",
   "metadata": {},
   "source": [
    "## 参考文献\n",
    "\n",
    "1. <t id='source'/><https://www.bilibili.com/video/BV1X34y197mF>"
   ]
  }
 ],
 "metadata": {
  "interpreter": {
   "hash": "5b3ded1ccb95c1d9bd405e7b823d9e85424cde40fbb5985eb47e999ef50e15b4"
  },
  "kernelspec": {
   "display_name": "Python 3.8.12 64-bit",
   "language": "python",
   "name": "python3"
  },
  "language_info": {
   "codemirror_mode": {
    "name": "ipython",
    "version": 3
   },
   "file_extension": ".py",
   "mimetype": "text/x-python",
   "name": "python",
   "nbconvert_exporter": "python",
   "pygments_lexer": "ipython3",
   "version": "3.8.12"
  },
  "orig_nbformat": 4
 },
 "nbformat": 4,
 "nbformat_minor": 2
}
