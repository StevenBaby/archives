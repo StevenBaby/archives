{
 "metadata": {
  "language_info": {
   "codemirror_mode": {
    "name": "ipython",
    "version": 3
   },
   "file_extension": ".py",
   "mimetype": "text/x-python",
   "name": "python",
   "nbconvert_exporter": "python",
   "pygments_lexer": "ipython3",
   "version": "3.7.2-final"
  },
  "orig_nbformat": 2,
  "kernelspec": {
   "name": "python3",
   "display_name": "Python 3"
  }
 },
 "nbformat": 4,
 "nbformat_minor": 2,
 "cells": [
  {
   "source": [
    "# 一些重要的函数图像 matplotlib\n",
    "\n",
    "[annotation]: <id> (6813e7d5-dc9f-4b0e-9803-1626defcc9b2)\n",
    "[annotation]: <status> (public)\n",
    "[annotation]: <create_time> (2020-12-04 19:26:20)\n",
    "[annotation]: <category> (数学理论)\n",
    "[annotation]: <tags> (微积分|Jupyter|matplotlib)\n",
    "[annotation]: <comments> (true)\n",
    "[annotation]: <url> (http://blog.ccyg.studio/article/6813e7d5-dc9f-4b0e-9803-1626defcc9b2)"
   ],
   "cell_type": "markdown",
   "metadata": {}
  },
  {
   "cell_type": "code",
   "execution_count": null,
   "metadata": {},
   "outputs": [],
   "source": [
    "import math\n",
    "import numpy as np\n",
    "import matplotlib.pyplot as plt\n",
    "from matplotlib import cm\n"
   ]
  },
  {
   "source": [
    "## 幂函数\n",
    "\n",
    "$$\n",
    "\\begin{aligned}\n",
    "y =& x \\\\\n",
    "y =& \\sqrt x \\\\\n",
    "y =& \\frac{1}{x} \\\\\n",
    "y =& x^2 \\\\\n",
    "y =& x^3 \\\\\n",
    "\\end{aligned}\n",
    "$$\n",
    "\n"
   ],
   "cell_type": "markdown",
   "metadata": {}
  },
  {
   "cell_type": "code",
   "execution_count": null,
   "metadata": {},
   "outputs": [],
   "source": [
    "x = np.linspace(-3 , 3, 64)\n",
    "x1 = np.sqrt(x)\n",
    "x2 = np.power(x, 2)\n",
    "x3 = np.power(x, 3)\n",
    "x4 = 1/x\n",
    "\n",
    "plt.plot(x,x,\"red\",lw=1)\n",
    "plt.plot(x,x1,\"orange\",lw=1)  \n",
    "plt.plot(x,x2,\"magenta\",lw=1)  \n",
    "plt.plot(x,x3,\"blue\",lw=1)\n",
    "plt.plot(x,x4,\"green\",lw=1)  \n",
    "plt.box()\n",
    "plt.grid(True)\n",
    "plt.ylim([-2, 2])\n",
    "plt.xlabel('X')\n",
    "plt.ylabel('Y')\n",
    "plt.axhline(color='grey')\n",
    "plt.axvline(color='grey')\n",
    "plt.axes().set_aspect('equal', 'datalim')\n",
    "plt.show()"
   ]
  },
  {
   "source": [
    "## 指数函数和对数函数\n",
    "\n",
    "$$\n",
    "\\begin{aligned}\n",
    "y =& a^x \\\\\n",
    "y =& \\log_a x\n",
    "\\end{aligned}\n",
    "$$\n"
   ],
   "cell_type": "markdown",
   "metadata": {}
  },
  {
   "cell_type": "code",
   "execution_count": null,
   "metadata": {},
   "outputs": [],
   "source": [
    "x = np.linspace(-3 , 3 ,64)\n",
    "x1 = np.power(np.e, x)\n",
    "x2 = np.log(x)\n",
    "\n",
    "plt.plot(x,x,\"grey\",lw=1)\n",
    "plt.plot(x,x1,\"magenta\",lw=1) \n",
    "plt.plot(x,x2,\"orange\",lw=1)    \n",
    "plt.box()\n",
    "plt.grid(True)\n",
    "plt.ylim([-2, 3])\n",
    "plt.xlabel('X')\n",
    "plt.ylabel('Y')\n",
    "plt.axhline(color='grey')\n",
    "plt.axvline(color='grey')\n",
    "plt.axes().set_aspect('equal', 'datalim')\n",
    "plt.show()"
   ]
  },
  {
   "source": [
    "## 三角函数\n",
    "\n",
    "### 正弦和余弦\n",
    "\n",
    "$$\n",
    "\\begin{aligned}\n",
    "y &= \\sin x \\\\\n",
    "y &= \\cos x\n",
    "\\end{aligned}\n",
    "$$\n"
   ],
   "cell_type": "markdown",
   "metadata": {}
  },
  {
   "cell_type": "code",
   "execution_count": null,
   "metadata": {},
   "outputs": [],
   "source": [
    "x = np.linspace(-2*np.pi,2*np.pi, 64)\n",
    "sin = np.sin(x)\n",
    "cos = np.cos(x)\n",
    "\n",
    "plt.plot(x,sin,\"red\",lw=1)\n",
    "plt.plot(x,cos,\"orange\",lw=1)  \n",
    "plt.box()\n",
    "plt.grid(True)\n",
    "plt.ylim([-1.5, 1.5])\n",
    "plt.xlabel('X')\n",
    "plt.ylabel('Y')\n",
    "plt.axhline(color='grey')\n",
    "plt.axvline(color='grey')\n",
    "plt.axes().set_aspect('equal', 'datalim')\n",
    "plt.show()"
   ]
  },
  {
   "source": [
    "### 正切和余切\n",
    "\n",
    "$$\n",
    "\\begin{aligned}\n",
    "y = \\tan x \\\\\n",
    "y = \\cot x\n",
    "\\end{aligned}\n",
    "$$\n"
   ],
   "cell_type": "markdown",
   "metadata": {}
  },
  {
   "cell_type": "code",
   "execution_count": null,
   "metadata": {},
   "outputs": [],
   "source": [
    "tan = np.tan(x)\n",
    "cot = 1/tan\n",
    "\n",
    "plt.plot(x,tan,\"red\",lw=1)\n",
    "plt.plot(x,cot,\"blue\",lw=1)  \n",
    "plt.grid(True)\n",
    "plt.box()\n",
    "plt.ylim([-1.5, 1.5])\n",
    "\n",
    "plt.axhline(color='grey')\n",
    "plt.axvline(color='grey')\n",
    "plt.axes().set_aspect('equal', 'datalim')\n",
    "plt.show()"
   ]
  },
  {
   "source": [
    "### 正割和余割\n",
    "\n",
    "$$\n",
    "\\begin{aligned}\n",
    "y = \\sec x \\\\\n",
    "y = \\csc x\n",
    "\\end{aligned}\n",
    "$$"
   ],
   "cell_type": "markdown",
   "metadata": {}
  },
  {
   "cell_type": "code",
   "execution_count": null,
   "metadata": {},
   "outputs": [],
   "source": [
    "sec = 1/cos\n",
    "csc = 1/sin\n",
    "\n",
    "plt.plot(x,sec,\"magenta\",lw=1)\n",
    "plt.plot(x,csc,\"blue\",lw=1)  \n",
    "plt.grid(True)\n",
    "plt.box()\n",
    "plt.ylim([-1.5, 1.5])\n",
    "\n",
    "plt.axhline(color='grey')\n",
    "plt.axvline(color='grey')\n",
    "plt.axes().set_aspect('equal', 'datalim')\n",
    "plt.show()"
   ]
  },
  {
   "source": [
    "## 心形线\n",
    "\n",
    "$y = a( 1 - \\cos \\theta)$\n"
   ],
   "cell_type": "markdown",
   "metadata": {}
  },
  {
   "cell_type": "code",
   "execution_count": null,
   "metadata": {},
   "outputs": [],
   "source": [
    "t = np.linspace(-2*np.pi,2*np.pi,64)\n",
    "r = 2 * (1 - np.cos(t))\n",
    "\n",
    "ax = plt.subplot(111, projection='polar')\n",
    "ax.plot(t, r,\"magenta\",lw=1)\n",
    "plt.grid(True)\n",
    "plt.box()\n",
    "plt.axhline(color='grey')\n",
    "plt.axvline(color='grey')\n",
    "plt.show()"
   ]
  },
  {
   "source": [
    "## 三叶玫瑰线\n",
    "\n",
    "$r = a\\sin 3 \\theta$\n"
   ],
   "cell_type": "markdown",
   "metadata": {}
  },
  {
   "cell_type": "code",
   "execution_count": null,
   "metadata": {},
   "outputs": [],
   "source": [
    "t = np.linspace(-2*np.pi,2*np.pi, 128)\n",
    "r = 2 * np.sin(3 * t)\n",
    "\n",
    "ax = plt.subplot(111, projection='polar')\n",
    "ax.plot(t, r,\"red\",lw=1)\n",
    "plt.grid(True)\n",
    "plt.box()\n",
    "plt.axhline(color='grey')\n",
    "plt.axvline(color='grey')\n",
    "plt.show()"
   ]
  },
  {
   "source": [
    "## 四叶玫瑰线\n",
    "\n",
    "$r = a\\sin 4 \\theta$"
   ],
   "cell_type": "markdown",
   "metadata": {}
  },
  {
   "cell_type": "code",
   "execution_count": null,
   "metadata": {},
   "outputs": [],
   "source": [
    "t = np.linspace(-2*np.pi,2*np.pi, 128)\n",
    "r = 2 * np.sin(4 * t)\n",
    "\n",
    "ax = plt.subplot(111, projection='polar')\n",
    "ax.plot(t, r,\"red\",lw=1)\n",
    "plt.grid(True)\n",
    "plt.box()\n",
    "plt.axhline(color='grey')\n",
    "plt.axvline(color='grey')\n",
    "plt.show()"
   ]
  },
  {
   "source": [
    "## 阿基米德螺旋线\n",
    "\n",
    "$r = a\\theta$"
   ],
   "cell_type": "markdown",
   "metadata": {}
  },
  {
   "cell_type": "code",
   "execution_count": null,
   "metadata": {},
   "outputs": [],
   "source": [
    "t = np.linspace(-2*np.pi,2*np.pi, 128)\n",
    "r = 2 * t\n",
    "\n",
    "ax = plt.subplot(111, projection='polar')\n",
    "ax.plot(t, r,\"brown\",lw=1)\n",
    "plt.grid(True)\n",
    "plt.box()\n",
    "plt.axhline(color='grey')\n",
    "plt.axvline(color='grey')\n",
    "plt.show()"
   ]
  },
  {
   "source": [
    "## 伯努利双纽线\n",
    "\n",
    "$r^2 = 2a^2\\cos 2\\theta$"
   ],
   "cell_type": "markdown",
   "metadata": {}
  },
  {
   "cell_type": "code",
   "execution_count": null,
   "metadata": {},
   "outputs": [],
   "source": [
    "t = np.linspace(-2*np.pi,2*np.pi, 128)\n",
    "r = 2 * np.cos(2 * t)\n",
    "\n",
    "ax = plt.subplot(111, projection='polar')\n",
    "ax.plot(t, r,\"magenta\",lw=1)\n",
    "plt.grid(True)\n",
    "plt.box()\n",
    "plt.axhline(color='grey')\n",
    "plt.axvline(color='grey')\n",
    "plt.show()"
   ]
  },
  {
   "source": [
    "## 摆线\n",
    "\n",
    "摆线方程\n",
    "$$\n",
    "\\begin{aligned}\n",
    "x =& a(t - \\sin t) \\\\\n",
    "y =& a(1 - \\cos t)\n",
    "\\end{aligned}\n",
    "$$"
   ],
   "cell_type": "markdown",
   "metadata": {}
  },
  {
   "cell_type": "code",
   "execution_count": null,
   "metadata": {},
   "outputs": [],
   "source": [
    "t = np.linspace(-2*np.pi,2*np.pi, 64)\n",
    "x = 2 * (t - np.sin(t))\n",
    "y = 2 * (1 - np.cos(t))\n",
    "plt.grid()\n",
    "plt.box()\n",
    "plt.ylim([-1, 3])\n",
    "plt.axes().set_aspect('equal', 'datalim')\n",
    "plt.axhline(color='grey')\n",
    "plt.axvline(color='grey')\n",
    "plt.plot(x,y,\"brown\",lw=1)\n",
    "plt.show()"
   ]
  },
  {
   "source": [
    "## 星形线\n",
    "\n",
    "$$\\begin{aligned}x =& r\\cos^3 t \\\\y =& r\\sin^3 t \\end{aligned}$$"
   ],
   "cell_type": "markdown",
   "metadata": {}
  },
  {
   "cell_type": "code",
   "execution_count": null,
   "metadata": {},
   "outputs": [],
   "source": [
    "t = np.linspace(-4,4, 64)\n",
    "x = 2 * np.power(np.cos(t), 3)\n",
    "y = 2 * np.power(np.sin(t), 3)\n",
    "plt.grid()\n",
    "plt.box()\n",
    "plt.ylim([-2, 2])\n",
    "plt.axes().set_aspect('equal', 'datalim')\n",
    "plt.axhline(color='grey')\n",
    "plt.axvline(color='grey')\n",
    "plt.axes().set_aspect('equal', 'datalim')\n",
    "plt.plot(x,y,\"brown\",lw=1)\n",
    "plt.show()"
   ]
  },
  {
   "source": [
    "## 关于泰勒级数的理解"
   ],
   "cell_type": "markdown",
   "metadata": {}
  },
  {
   "source": [
    "x = np.linspace(-3*np.pi,3*np.pi, 64)\n",
    "sin = np.sin(x)\n",
    "y3 = x - 1/math.factorial(3) * (x ** 3)\n",
    "y5 = x - 1/math.factorial(3) * (x ** 3) + 1/math.factorial(5) * (x ** 5)\n",
    "\n",
    "plt.plot(x,sin,\"red\",lw=1)\n",
    "plt.plot(x,x,\"blue\",lw=1)  \n",
    "plt.plot(x,y3,\"green\",lw=1)  \n",
    "plt.plot(x,y5,\"brown\",lw=1)\n",
    "plt.grid(True)\n",
    "plt.box()\n",
    "plt.ylim([-3, 3])\n",
    "plt.xlabel('X')\n",
    "plt.ylabel('Y')\n",
    "plt.axhline(color='grey')\n",
    "plt.axvline(color='grey')\n",
    "plt.axes().set_aspect('equal', 'datalim')\n",
    "plt.show()"
   ],
   "cell_type": "code",
   "metadata": {},
   "execution_count": null,
   "outputs": []
  },
  {
   "source": [
    "绘制函数图像如下：\n",
    "\n",
    "$$\n",
    "\\begin{aligned}\n",
    "y = &\\sin x \\\\\n",
    "y = & x \\\\\n",
    "y = & x -\\frac{1}{3!}x^3 \\\\\n",
    "y = & x -\\frac{1}{3!}x^3 +\\frac{1}{5!}x^5 \\\\\n",
    "\\end{aligned}\n",
    "$$\n",
    "\n",
    "如上图所示，可以看到 $\\sin x$ 的泰勒级数展开式，每增加一项，以线性多项式函数来逼近 $\\sin x$ 就越精确，这也就是线性的泰勒级数与非线性函数相等的直观表示。"
   ],
   "cell_type": "markdown",
   "metadata": {}
  },
  {
   "source": [
    "## 悬链线\n",
    "\n",
    "$\\displaystyle y=a \\cosh(\\frac{x}{a})$"
   ],
   "cell_type": "markdown",
   "metadata": {}
  },
  {
   "cell_type": "code",
   "execution_count": null,
   "metadata": {},
   "outputs": [],
   "source": [
    "x = np.linspace(-8, 8, 32)\n",
    "y = 2 * np.cosh(x / 2)\n",
    "\n",
    "plt.plot(x, y, \"magenta\",lw=1)\n",
    "plt.grid(True)\n",
    "plt.box()\n",
    "plt.ylim([0, 10])\n",
    "plt.xlabel('X')\n",
    "plt.ylabel('Y')\n",
    "plt.axhline(color='grey')\n",
    "plt.axvline(color='grey')\n",
    "plt.axes().set_aspect('equal', 'datalim')\n",
    "plt.show()"
   ]
  },
  {
   "source": [
    "悬链线看起来真像抛物线，伯努利兄弟俩对这个颇有研究"
   ],
   "cell_type": "markdown",
   "metadata": {}
  },
  {
   "source": [
    "## 一些重要的二维函数图像\n",
    "\n"
   ],
   "cell_type": "markdown",
   "metadata": {}
  },
  {
   "source": [
    "### 抛物柱面\n",
    "\n",
    "$y = x^2$\n"
   ],
   "cell_type": "markdown",
   "metadata": {}
  },
  {
   "cell_type": "code",
   "execution_count": null,
   "metadata": {},
   "outputs": [],
   "source": [
    "fig = plt.figure()\n",
    "ax = fig.gca(projection='3d')\n",
    "x = np.linspace(-5, 5, 64)\n",
    "z = np.linspace(-5, 5, 64)\n",
    "X, Z = np.meshgrid(x, z)\n",
    "Y = X**2\n",
    "\n",
    "alpha = 0.5\n",
    "cmap = cm.bone\n",
    "\n",
    "ax.set_xlabel('x')\n",
    "ax.set_ylabel('y')\n",
    "ax.set_zlabel('z')\n",
    "plt.title(r\"$y = x^2$\")\n",
    "surf = ax.plot_surface(X, Y, Z, alpha=alpha, cmap=cmap)\n",
    "plt.show()"
   ]
  },
  {
   "source": [
    "### 椭球面\n",
    "\n",
    "$$\n",
    "\\begin{aligned}\n",
    "\\frac{x^2}{a^2} + \\frac{y^2}{b^2} + \\frac{z^2}{c^2} = 1\n",
    "\\end{aligned}\n",
    "$$\n"
   ],
   "cell_type": "markdown",
   "metadata": {}
  },
  {
   "cell_type": "code",
   "execution_count": null,
   "metadata": {},
   "outputs": [],
   "source": [
    "fig = plt.figure()\n",
    "ax = fig.gca(projection='3d')\n",
    "\n",
    "a, b, c = 3, 4, 5\n",
    "\n",
    "theta = np.linspace(0, 2*np.pi, 20)\n",
    "phi = np.linspace(0, np.pi, 20)\n",
    "\n",
    "X = a * np.outer(np.cos(theta), np.sin(phi))\n",
    "Y = b * np.outer(np.sin(theta), np.sin(phi))\n",
    "Z = c * np.outer(np.ones(np.size(theta)), np.cos(phi))\n",
    "\n",
    "alpha = 0.5\n",
    "cmap = cm.bone\n",
    "\n",
    "ax.set_xlabel('x')\n",
    "ax.set_ylabel('y')\n",
    "ax.set_zlabel('z')\n",
    "plt.title(r\"$\\frac{x^2}{a^2} + \\frac{y^2}{b^2} + \\frac{z^2}{c^2} = 1$\")\n",
    "surf = ax.plot_surface(X, Y, Z, alpha=alpha, cmap=cmap)\n",
    "plt.show()"
   ]
  },
  {
   "source": [
    "### 椭圆抛物面\n",
    "\n",
    "$\\displaystyle \\frac{x^2}{a^2} + \\frac{y^2}{b^2} = \\frac{z}{c}$"
   ],
   "cell_type": "markdown",
   "metadata": {}
  },
  {
   "cell_type": "code",
   "execution_count": null,
   "metadata": {},
   "outputs": [],
   "source": [
    "fig = plt.figure()\n",
    "ax = fig.gca(projection='3d')\n",
    "X = np.linspace(-5, 5, 20)\n",
    "Y = np.linspace(-5, 5, 20)\n",
    "X, Y = np.meshgrid(X, Y)\n",
    "Z = X ** 2 + Y ** 2 \n",
    "ax.set_xlabel('x')\n",
    "ax.set_ylabel('y')\n",
    "ax.set_zlabel('z')\n",
    "plt.title(r\"$\\frac{x^2}{a^2} + \\frac{y^2}{b^2} = \\frac{z}{c}$\")\n",
    "surf = ax.plot_surface(X, Y, Z, cmap=cm.afmhot)\n",
    "plt.show()"
   ]
  },
  {
   "source": [
    "### 椭圆锥面\n",
    "\n",
    "$\\displaystyle \\frac{x^2}{a^2} + \\frac{y^2}{b^2} = \\frac{z^2}{c^2}$"
   ],
   "cell_type": "markdown",
   "metadata": {}
  },
  {
   "cell_type": "code",
   "execution_count": null,
   "metadata": {},
   "outputs": [],
   "source": [
    "fig = plt.figure()\n",
    "ax = fig.gca(projection='3d')\n",
    "X = np.linspace(-5, 5, 20)\n",
    "Y = np.linspace(-5, 5, 20)\n",
    "X, Y = np.meshgrid(X, Y)\n",
    "Z = np.sqrt(X ** 2 + Y ** 2)\n",
    "ax.set_xlabel('x')\n",
    "ax.set_ylabel('y')\n",
    "ax.set_zlabel('z')\n",
    "plt.title(r\"$\\frac{x^2}{a^2} + \\frac{y^2}{b^2} = \\frac{z^2}{c^2}$\")\n",
    "surf = ax.plot_surface(X, Y, Z, cmap=cm.afmhot)\n",
    "plt.show()"
   ]
  },
  {
   "source": [
    "### 单页双曲面\n",
    "\n",
    "$\\displaystyle \\frac{x^2}{a^2} + \\frac{y^2}{b^2} - \\frac{z^2}{c^2} = 1$\n",
    "\n",
    "我尝试了好几次，发现双曲面不知道该怎么用 `matplotlib` 画出来，如果有谁知道，希望能评论告诉我。\n"
   ],
   "cell_type": "markdown",
   "metadata": {}
  },
  {
   "source": [
    "### 双叶双曲面\n",
    "\n",
    "$\\displaystyle \\frac{x^2}{a^2} - \\frac{y^2}{b^2} - \\frac{z^2}{c^2} = 1$\n"
   ],
   "cell_type": "markdown",
   "metadata": {}
  },
  {
   "source": [
    "## 马鞍面（双曲抛物面）\n",
    "\n",
    "$\\displaystyle \\frac{y^2}{b^2} -  \\frac{x^2}{a^2} = \\frac{z}{c}$"
   ],
   "cell_type": "markdown",
   "metadata": {}
  },
  {
   "cell_type": "code",
   "execution_count": null,
   "metadata": {},
   "outputs": [],
   "source": [
    "fig = plt.figure()\n",
    "ax = fig.gca(projection='3d')\n",
    "X = np.linspace(-5, 5, 20)\n",
    "Y = np.linspace(-5, 5, 20)\n",
    "X, Y = np.meshgrid(X, Y)\n",
    "Z = Y ** 2 - X ** 2\n",
    "ax.set_xlabel('x')\n",
    "ax.set_ylabel('y')\n",
    "ax.set_zlabel('z')\n",
    "plt.title(r\"$\\frac{y^2}{b^2} -  \\frac{x^2}{a^2} = \\frac{z}{c}$\")\n",
    "surf = ax.plot_surface(X, Y, Z, cmap=cm.bone)\n",
    "plt.show()"
   ]
  },
  {
   "source": [
    "## 其他重要的二维函数图像\n",
    "\n",
    "$z = xy$"
   ],
   "cell_type": "markdown",
   "metadata": {}
  },
  {
   "cell_type": "code",
   "execution_count": null,
   "metadata": {},
   "outputs": [],
   "source": [
    "fig = plt.figure()\n",
    "ax = fig.gca(projection='3d')\n",
    "X = np.arange(-5, 5, 0.25)\n",
    "Y = np.arange(-5, 5, 0.25)\n",
    "X, Y = np.meshgrid(X, Y)\n",
    "Z = X * Y\n",
    "ax.set_xlabel('x')\n",
    "ax.set_ylabel('y')\n",
    "ax.set_zlabel('z')\n",
    "plt.title(r\"$z = xy$\")\n",
    "surf = ax.plot_surface(X, Y, Z, cmap=cm.Blues)\n",
    "plt.show()\n"
   ]
  },
  {
   "source": [
    "## 一些二维曲线图像\n",
    "\n",
    "$r(t) = (\\sin 3t)(\\cos t)\\overrightarrow{i} +  (\\sin 3t)(\\sin t)\\overrightarrow{j} + t\\overrightarrow{k}$"
   ],
   "cell_type": "markdown",
   "metadata": {}
  },
  {
   "cell_type": "code",
   "execution_count": null,
   "metadata": {},
   "outputs": [],
   "source": [
    "fig = plt.figure()\n",
    "ax = fig.gca(projection='3d')\n",
    "\n",
    "theta = np.linspace( -np.pi, np.pi, 64)\n",
    "z = theta\n",
    "x = np.sin(3*theta) * np.cos(theta)\n",
    "y = np.sin(3*theta) * np.sin(theta)\n",
    "\n",
    "ax.set_xlabel('x')\n",
    "ax.set_ylabel('y')\n",
    "ax.set_zlabel('z')\n",
    "plt.title(r\"$r(t) = (\\sin 3t)(\\cos t)\\overrightarrow{i} +  (\\sin 3t)(\\sin t)\\overrightarrow{j} + t\\overrightarrow{k}$\")\n",
    "ax.plot(x, y, z)\n",
    "plt.show()"
   ]
  },
  {
   "source": [
    "$r(t) = \\cos t \\overrightarrow{i} + \\sin t \\overrightarrow{j} + sin 2t \\overrightarrow{k}$"
   ],
   "cell_type": "markdown",
   "metadata": {}
  },
  {
   "cell_type": "code",
   "execution_count": null,
   "metadata": {},
   "outputs": [],
   "source": [
    "fig = plt.figure()\n",
    "ax = fig.gca(projection='3d')\n",
    "\n",
    "theta = np.linspace(-np.pi, np.pi, 40)\n",
    "z = np.sin(2 * theta)\n",
    "x = np.cos(theta)\n",
    "y = np.sin(theta)\n",
    "ax.set_xlabel('x')\n",
    "ax.set_ylabel('y')\n",
    "ax.set_zlabel('z')\n",
    "plt.title(r\"$r(t) = \\cos t \\overrightarrow{i} + \\sin t \\overrightarrow{j} + sin 2t \\overrightarrow{k}$\")\n",
    "ax.plot(x, y, z)\n",
    "plt.show()"
   ]
  },
  {
   "source": [
    "### 螺旋线\n",
    "\n",
    "$r(t) = \\cos t \\overrightarrow{i} + \\sin t \\overrightarrow{j} + t \\overrightarrow{k}$"
   ],
   "cell_type": "markdown",
   "metadata": {}
  },
  {
   "cell_type": "code",
   "execution_count": null,
   "metadata": {},
   "outputs": [],
   "source": [
    "fig = plt.figure()\n",
    "ax = fig.gca(projection='3d')\n",
    "\n",
    "theta = np.linspace(-2* np.pi, 2 * np.pi, 64)\n",
    "z = theta\n",
    "x = np.cos(theta)\n",
    "y = np.sin(theta)\n",
    "ax.set_xlabel('x')\n",
    "ax.set_ylabel('y')\n",
    "ax.set_zlabel('z')\n",
    "plt.title(r\"$r(t) = \\cos t \\overrightarrow{i} + \\sin t \\overrightarrow{j} + t \\overrightarrow{k}$\")\n",
    "ax.plot(x, y, z)\n",
    "plt.show()"
   ]
  }
 ]
}